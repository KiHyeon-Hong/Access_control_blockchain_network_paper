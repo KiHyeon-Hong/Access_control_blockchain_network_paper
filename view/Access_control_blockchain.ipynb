{
 "cells": [
  {
   "cell_type": "code",
   "execution_count": 1,
   "id": "80b4e2c7",
   "metadata": {},
   "outputs": [],
   "source": [
    "import numpy as np\n",
    "import pandas as pd\n",
    "import matplotlib as mpl\n",
    "import matplotlib\n",
    "\n",
    "from matplotlib import pyplot as plt\n",
    "\n",
    "matplotlib.rcParams['font.family'] ='Malgun Gothic'\n",
    "matplotlib.rcParams['axes.unicode_minus'] =False"
   ]
  },
  {
   "cell_type": "code",
   "execution_count": 2,
   "id": "b7b58d8c",
   "metadata": {},
   "outputs": [],
   "source": [
    "plt.rc('font', size=10)        # 기본 폰트 크기\n",
    "plt.rc('axes', labelsize=15)   # x,y축 label 폰트 크기\n",
    "plt.rc('xtick', labelsize=10)  # x축 눈금 폰트 크기 \n",
    "plt.rc('ytick', labelsize=10)  # y축 눈금 폰트 크기\n",
    "plt.rc('legend', fontsize=10)  # 범례 폰트 크기\n",
    "plt.rc('figure', titlesize=20) # figure title 폰트 크기"
   ]
  },
  {
   "cell_type": "markdown",
   "id": "2189e1ca",
   "metadata": {},
   "source": [
    "<hr>\n",
    "<h3>출입통제 출입키 실험 파일 읽기 및 분석</h3>\n",
    "<br>"
   ]
  },
  {
   "cell_type": "code",
   "execution_count": 3,
   "id": "adb337fb",
   "metadata": {},
   "outputs": [],
   "source": [
    "file_path = 'C:/Data/registration.csv'\n",
    "registration = pd.read_csv(file_path, engine='python')"
   ]
  },
  {
   "cell_type": "code",
   "execution_count": 4,
   "id": "2d2a7c29",
   "metadata": {},
   "outputs": [],
   "source": [
    "file_path = 'C:/Data/verification.csv'\n",
    "verification = pd.read_csv(file_path, engine='python')"
   ]
  },
  {
   "cell_type": "code",
   "execution_count": 5,
   "id": "9c4b64b7",
   "metadata": {},
   "outputs": [
    {
     "data": {
      "text/html": [
       "<div>\n",
       "<style scoped>\n",
       "    .dataframe tbody tr th:only-of-type {\n",
       "        vertical-align: middle;\n",
       "    }\n",
       "\n",
       "    .dataframe tbody tr th {\n",
       "        vertical-align: top;\n",
       "    }\n",
       "\n",
       "    .dataframe thead th {\n",
       "        text-align: right;\n",
       "    }\n",
       "</style>\n",
       "<table border=\"1\" class=\"dataframe\">\n",
       "  <thead>\n",
       "    <tr style=\"text-align: right;\">\n",
       "      <th></th>\n",
       "      <th>NumOfTransaction</th>\n",
       "      <th>Time</th>\n",
       "    </tr>\n",
       "  </thead>\n",
       "  <tbody>\n",
       "    <tr>\n",
       "      <th>0</th>\n",
       "      <td>1</td>\n",
       "      <td>17</td>\n",
       "    </tr>\n",
       "    <tr>\n",
       "      <th>1</th>\n",
       "      <td>10</td>\n",
       "      <td>25</td>\n",
       "    </tr>\n",
       "    <tr>\n",
       "      <th>2</th>\n",
       "      <td>100</td>\n",
       "      <td>114</td>\n",
       "    </tr>\n",
       "    <tr>\n",
       "      <th>3</th>\n",
       "      <td>500</td>\n",
       "      <td>318</td>\n",
       "    </tr>\n",
       "    <tr>\n",
       "      <th>4</th>\n",
       "      <td>1000</td>\n",
       "      <td>574</td>\n",
       "    </tr>\n",
       "  </tbody>\n",
       "</table>\n",
       "</div>"
      ],
      "text/plain": [
       "   NumOfTransaction  Time\n",
       "0                 1    17\n",
       "1                10    25\n",
       "2               100   114\n",
       "3               500   318\n",
       "4              1000   574"
      ]
     },
     "execution_count": 5,
     "metadata": {},
     "output_type": "execute_result"
    }
   ],
   "source": [
    "registration.head()"
   ]
  },
  {
   "cell_type": "code",
   "execution_count": 6,
   "id": "86ea65e0",
   "metadata": {},
   "outputs": [
    {
     "name": "stdout",
     "output_type": "stream",
     "text": [
      "<class 'pandas.core.frame.DataFrame'>\n",
      "RangeIndex: 14 entries, 0 to 13\n",
      "Data columns (total 2 columns):\n",
      " #   Column            Non-Null Count  Dtype\n",
      "---  ------            --------------  -----\n",
      " 0   NumOfTransaction  14 non-null     int64\n",
      " 1   Time              14 non-null     int64\n",
      "dtypes: int64(2)\n",
      "memory usage: 352.0 bytes\n"
     ]
    }
   ],
   "source": [
    "registration.info()"
   ]
  },
  {
   "cell_type": "code",
   "execution_count": 7,
   "id": "7b0a930c",
   "metadata": {
    "scrolled": true
   },
   "outputs": [
    {
     "data": {
      "text/html": [
       "<div>\n",
       "<style scoped>\n",
       "    .dataframe tbody tr th:only-of-type {\n",
       "        vertical-align: middle;\n",
       "    }\n",
       "\n",
       "    .dataframe tbody tr th {\n",
       "        vertical-align: top;\n",
       "    }\n",
       "\n",
       "    .dataframe thead th {\n",
       "        text-align: right;\n",
       "    }\n",
       "</style>\n",
       "<table border=\"1\" class=\"dataframe\">\n",
       "  <thead>\n",
       "    <tr style=\"text-align: right;\">\n",
       "      <th></th>\n",
       "      <th>NumOfBlock</th>\n",
       "      <th>NumOfTransaction</th>\n",
       "      <th>Time</th>\n",
       "    </tr>\n",
       "  </thead>\n",
       "  <tbody>\n",
       "    <tr>\n",
       "      <th>0</th>\n",
       "      <td>10000</td>\n",
       "      <td>1</td>\n",
       "      <td>127</td>\n",
       "    </tr>\n",
       "    <tr>\n",
       "      <th>1</th>\n",
       "      <td>10000</td>\n",
       "      <td>5</td>\n",
       "      <td>141</td>\n",
       "    </tr>\n",
       "    <tr>\n",
       "      <th>2</th>\n",
       "      <td>10000</td>\n",
       "      <td>10</td>\n",
       "      <td>153</td>\n",
       "    </tr>\n",
       "    <tr>\n",
       "      <th>3</th>\n",
       "      <td>10000</td>\n",
       "      <td>50</td>\n",
       "      <td>274</td>\n",
       "    </tr>\n",
       "    <tr>\n",
       "      <th>4</th>\n",
       "      <td>10000</td>\n",
       "      <td>100</td>\n",
       "      <td>522</td>\n",
       "    </tr>\n",
       "  </tbody>\n",
       "</table>\n",
       "</div>"
      ],
      "text/plain": [
       "   NumOfBlock  NumOfTransaction  Time\n",
       "0       10000                 1   127\n",
       "1       10000                 5   141\n",
       "2       10000                10   153\n",
       "3       10000                50   274\n",
       "4       10000               100   522"
      ]
     },
     "execution_count": 7,
     "metadata": {},
     "output_type": "execute_result"
    }
   ],
   "source": [
    "verification.head()"
   ]
  },
  {
   "cell_type": "code",
   "execution_count": 8,
   "id": "02c2af73",
   "metadata": {},
   "outputs": [
    {
     "name": "stdout",
     "output_type": "stream",
     "text": [
      "<class 'pandas.core.frame.DataFrame'>\n",
      "RangeIndex: 14 entries, 0 to 13\n",
      "Data columns (total 3 columns):\n",
      " #   Column            Non-Null Count  Dtype\n",
      "---  ------            --------------  -----\n",
      " 0   NumOfBlock        14 non-null     int64\n",
      " 1   NumOfTransaction  14 non-null     int64\n",
      " 2   Time              14 non-null     int64\n",
      "dtypes: int64(3)\n",
      "memory usage: 464.0 bytes\n"
     ]
    }
   ],
   "source": [
    "verification.info()"
   ]
  },
  {
   "cell_type": "markdown",
   "id": "641a818e",
   "metadata": {},
   "source": [
    "<hr>\n",
    "<h3>등록 시간 측정 실험</h3>\n",
    "<br>\n",
    "<h4>등록 트랜잭션 수에 따른 등록 시간 평가</h4>\n",
    "<br>"
   ]
  },
  {
   "cell_type": "code",
   "execution_count": 9,
   "id": "64a5f49c",
   "metadata": {},
   "outputs": [
    {
     "data": {
      "image/png": "[encoded data removed]",
      "text/plain": [
       "<Figure size 432x288 with 1 Axes>"
      ]
     },
     "metadata": {
      "needs_background": "light"
     },
     "output_type": "display_data"
    }
   ],
   "source": [
    "plt.plot(registration['NumOfTransaction'], registration['Time'], color='#000000FF', marker='o')\n",
    "\n",
    "plt.xlabel('Number of transactions')\n",
    "plt.ylabel('Time (ms)')\n",
    "\n",
    "plt.show()"
   ]
  },
  {
   "cell_type": "markdown",
   "id": "827e9d46",
   "metadata": {},
   "source": [
    "<br>\n",
    "<h4>등록 트랜잭션 평균 지연 시간</h4>\n",
    "<br>"
   ]
  },
  {
   "cell_type": "code",
   "execution_count": 10,
   "id": "cac46fb0",
   "metadata": {},
   "outputs": [],
   "source": [
    "registration_avg = []"
   ]
  },
  {
   "cell_type": "code",
   "execution_count": 11,
   "id": "31b2f03f",
   "metadata": {},
   "outputs": [],
   "source": [
    "for i in range(len(registration)):\n",
    "    registration_avg.append(registration.iloc[i].Time / registration.iloc[i].NumOfTransaction)"
   ]
  },
  {
   "cell_type": "code",
   "execution_count": 12,
   "id": "06cc8333",
   "metadata": {},
   "outputs": [
    {
     "data": {
      "image/png": "[encoded data removed]",
      "text/plain": [
       "<Figure size 432x288 with 1 Axes>"
      ]
     },
     "metadata": {
      "needs_background": "light"
     },
     "output_type": "display_data"
    }
   ],
   "source": [
    "plt.plot(registration['NumOfTransaction'], registration_avg, color='#000000FF', marker='o')\n",
    "\n",
    "plt.xlabel('Number of transactions')\n",
    "plt.ylabel('Time (ms)')\n",
    "\n",
    "plt.show()"
   ]
  },
  {
   "cell_type": "markdown",
   "id": "b435f791",
   "metadata": {},
   "source": [
    "<br>\n",
    "<h4>등록 트랜잭션 TPS(Transaction per second) 평가</h4>\n",
    "<br>"
   ]
  },
  {
   "cell_type": "code",
   "execution_count": 13,
   "id": "c4ebe7ec",
   "metadata": {},
   "outputs": [],
   "source": [
    "registration_TPS = []"
   ]
  },
  {
   "cell_type": "code",
   "execution_count": 14,
   "id": "27ba8f3d",
   "metadata": {},
   "outputs": [],
   "source": [
    "for i in range(len(registration)):\n",
    "    registration_TPS.append(registration.iloc[i].NumOfTransaction / (registration.iloc[i].Time / 1000))"
   ]
  },
  {
   "cell_type": "code",
   "execution_count": 15,
   "id": "42f9dac4",
   "metadata": {},
   "outputs": [
    {
     "data": {
      "image/png": "[encoded data removed]",
      "text/plain": [
       "<Figure size 432x288 with 1 Axes>"
      ]
     },
     "metadata": {
      "needs_background": "light"
     },
     "output_type": "display_data"
    }
   ],
   "source": [
    "plt.plot(registration['NumOfTransaction'], registration_TPS, color='#000000FF', marker='o')\n",
    "\n",
    "plt.xlabel('Number of transactions')\n",
    "plt.ylabel('Transaction Per Second')\n",
    "\n",
    "plt.show()"
   ]
  },
  {
   "cell_type": "markdown",
   "id": "fb7e400c",
   "metadata": {},
   "source": [
    "<hr>\n",
    "<h3>검증 시간 측정 실험</h3>\n",
    "<br>\n",
    "<h4>검증 트랜잭션 수에 따른 검증 시간 평가</h4>\n",
    "<br>"
   ]
  },
  {
   "cell_type": "code",
   "execution_count": 16,
   "id": "4fa4a988",
   "metadata": {},
   "outputs": [
    {
     "data": {
      "image/png": "[encoded data removed]",
      "text/plain": [
       "<Figure size 432x288 with 1 Axes>"
      ]
     },
     "metadata": {
      "needs_background": "light"
     },
     "output_type": "display_data"
    }
   ],
   "source": [
    "plt.plot(verification['NumOfTransaction'], verification['Time'], color='#000000FF', marker='o')\n",
    "\n",
    "plt.xlabel('Number of transactions')\n",
    "plt.ylabel('Time (ms)')\n",
    "\n",
    "plt.show()"
   ]
  },
  {
   "cell_type": "markdown",
   "id": "9cf4e375",
   "metadata": {},
   "source": [
    "<br>\n",
    "<h4>검증 트랜잭션 평균 지연 시간</h4>\n",
    "<br>"
   ]
  },
  {
   "cell_type": "code",
   "execution_count": 17,
   "id": "96fcc224",
   "metadata": {},
   "outputs": [],
   "source": [
    "verification_avg = []"
   ]
  },
  {
   "cell_type": "code",
   "execution_count": 18,
   "id": "81343750",
   "metadata": {},
   "outputs": [],
   "source": [
    "for i in range(len(verification)):\n",
    "    verification_avg.append(verification.iloc[i].Time / verification.iloc[i].NumOfTransaction)"
   ]
  },
  {
   "cell_type": "code",
   "execution_count": 19,
   "id": "b5af9aef",
   "metadata": {},
   "outputs": [
    {
     "data": {
      "image/png": "[encoded data removed]",
      "text/plain": [
       "<Figure size 432x288 with 1 Axes>"
      ]
     },
     "metadata": {
      "needs_background": "light"
     },
     "output_type": "display_data"
    }
   ],
   "source": [
    "plt.plot(verification['NumOfTransaction'], verification_avg, color='#000000FF', marker='o')\n",
    "\n",
    "plt.xlabel('Number of transactions')\n",
    "plt.ylabel('Time (ms)')\n",
    "\n",
    "plt.show()"
   ]
  },
  {
   "cell_type": "markdown",
   "id": "8f60248e",
   "metadata": {},
   "source": [
    "<br>\n",
    "<h4>검증 트랜잭션 TPS(Transaction per second) 평가</h4>\n",
    "<br>"
   ]
  },
  {
   "cell_type": "code",
   "execution_count": 20,
   "id": "33b83774",
   "metadata": {},
   "outputs": [],
   "source": [
    "verification_TPS = []"
   ]
  },
  {
   "cell_type": "code",
   "execution_count": 21,
   "id": "a5c76d8f",
   "metadata": {},
   "outputs": [],
   "source": [
    "for i in range(len(verification)):\n",
    "    verification_TPS.append(verification.iloc[i].NumOfTransaction / (verification.iloc[i].Time / 1000))"
   ]
  },
  {
   "cell_type": "code",
   "execution_count": 22,
   "id": "dac2ad68",
   "metadata": {},
   "outputs": [
    {
     "data": {
      "image/png": "[encoded data removed]",
      "text/plain": [
       "<Figure size 432x288 with 1 Axes>"
      ]
     },
     "metadata": {
      "needs_background": "light"
     },
     "output_type": "display_data"
    }
   ],
   "source": [
    "plt.plot(verification['NumOfTransaction'], verification_TPS, color='#000000FF', marker='o')\n",
    "\n",
    "plt.xlabel('Number of transactions')\n",
    "plt.ylabel('Transaction Per Second')\n",
    "\n",
    "plt.show()"
   ]
  }
 ],
 "metadata": {
  "kernelspec": {
   "display_name": "Python 3 (ipykernel)",
   "language": "python",
   "name": "python3"
  },
  "language_info": {
   "codemirror_mode": {
    "name": "ipython",
    "version": 3
   },
   "file_extension": ".py",
   "mimetype": "text/x-python",
   "name": "python",
   "nbconvert_exporter": "python",
   "pygments_lexer": "ipython3",
   "version": "3.10.5"
  }
 },
 "nbformat": 4,
 "nbformat_minor": 5
}
